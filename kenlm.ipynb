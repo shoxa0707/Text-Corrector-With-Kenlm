{
 "cells": [
  {
   "cell_type": "markdown",
   "id": "0fc126ee-d037-4c89-baea-a335648541c6",
   "metadata": {},
   "source": [
    "## Word correction"
   ]
  },
  {
   "cell_type": "code",
   "execution_count": 1,
   "id": "a443edcd-590a-4ea6-b3f2-27551512cd67",
   "metadata": {
    "vscode": {
     "languageId": "python"
    }
   },
   "outputs": [],
   "source": [
    "import kenlm, Levenshtein"
   ]
  },
  {
   "cell_type": "code",
   "execution_count": 2,
   "id": "0acc9caa-13fb-42c8-a59f-78f6a7e2b87e",
   "metadata": {
    "vscode": {
     "languageId": "python"
    }
   },
   "outputs": [],
   "source": [
    "model = kenlm.LanguageModel(\"language_model/airi.bin\")"
   ]
  },
  {
   "cell_type": "code",
   "execution_count": 3,
   "id": "67bf7d21-0c2c-447a-8e82-07256c931f1d",
   "metadata": {
    "vscode": {
     "languageId": "python"
    }
   },
   "outputs": [],
   "source": [
    "def load_unigram_set_from_arpa(arpa_path):\n",
    "    \"\"\"Read unigrams from arpa file.\"\"\"\n",
    "    unigrams = set()\n",
    "    with open(arpa_path) as f:\n",
    "        start_1_gram = False\n",
    "        for line in f:\n",
    "            line = line.strip()\n",
    "            if line == \"\\\\1-grams:\":\n",
    "                start_1_gram = True\n",
    "            elif line == \"\\\\2-grams:\":\n",
    "                break\n",
    "            if start_1_gram and len(line) > 0:\n",
    "                parts = line.split(\"\\t\")\n",
    "                if len(parts) == 3:\n",
    "                    unigrams.add(parts[1])\n",
    "    if len(unigrams) == 0:\n",
    "        raise ValueError(\"No unigrams found in arpa file. Something is wrong with the file.\")\n",
    "    return unigrams\n",
    "\n",
    "\n",
    "def prepare_unigram_set(unigrams, kenlm_model: \"kenlm.Model\"):\n",
    "    \"\"\"Filter unigrams down to vocabulary that exists in kenlm_model.\"\"\"\n",
    "    if len(unigrams) < 1000:\n",
    "        logger.warning(\n",
    "            \"Only %s unigrams passed as vocabulary. Is this small or artificial data?\",\n",
    "            len(unigrams),\n",
    "        )\n",
    "    unigram_set = set(unigrams)\n",
    "    unigram_set = set([t for t in unigram_set if t in kenlm_model])\n",
    "    retained_fraction = 1.0 if len(unigrams) == 0 else len(unigram_set) / len(unigrams)\n",
    "    if retained_fraction < 0.1:\n",
    "        logger.warning(\n",
    "            \"Only %s%% of unigrams in vocabulary found in kenlm model-- this might mean that your \"\n",
    "            \"vocabulary and language model are incompatible. Is this intentional?\",\n",
    "            round(retained_fraction * 100, 1),\n",
    "        )\n",
    "    return unigram_set"
   ]
  },
  {
   "cell_type": "code",
   "execution_count": 5,
   "id": "6a168349-bf0d-44d0-9dc1-edf3a03ed50d",
   "metadata": {
    "vscode": {
     "languageId": "python"
    }
   },
   "outputs": [],
   "source": [
    "unigrams = load_unigram_set_from_arpa(\"airi.arpa\")\n",
    "unigrams_set = prepare_unigram_set(unigrams, model)"
   ]
  },
  {
   "cell_type": "code",
   "execution_count": 20,
   "id": "4e5d310e-4278-437b-8081-365c22633666",
   "metadata": {
    "vscode": {
     "languageId": "python"
    }
   },
   "outputs": [],
   "source": [
    "def find_equivalent(word):\n",
    "    max_distance = 1.2\n",
    "    # Generate candidate words using the Levenshtein library\n",
    "    candidates = [candidate for candidate in unigrams_set if Levenshtein.distance(word, candidate) <= max_distance]\n",
    "    if len(candidates) == 0:\n",
    "        return [word]\n",
    "    return candidates\n",
    "\n",
    "def check_and_correct(qism, model, gap_boshi=False, gap_oxiri=False):\n",
    "    global qiymatlar\n",
    "    qiymatlar = []\n",
    "    if gap_boshi:\n",
    "        if len(qism) == 3:\n",
    "            # detect candidates\n",
    "            first = find_equivalent(qism[0])\n",
    "            second = find_equivalent(qism[1])\n",
    "            third = find_equivalent(qism[2])\n",
    "            # find the best first and second word\n",
    "            bir_ikki = [(model.score('<s> '+i+' '+j),i+' '+j) for j in second for i in first]\n",
    "            bir_ikki.sort(key=lambda x: x[0], reverse=True)\n",
    "\n",
    "            bir = bir_ikki[0][1].split()[0]\n",
    "            qiymatlar.append(bir_ikki[0])\n",
    "            ikki = bir_ikki[0][1].split()[1]\n",
    "            # find the best third word\n",
    "            ikki_uch = [(model.score(ikki+' '+i),ikki+' '+i) for i in third]\n",
    "            ikki_uch.sort(key=lambda x: x[0], reverse=True)\n",
    "            uchlist = [(model.score(bir_ikki[0][1]+' '+i)+model.score(ikki+' '+i),i) for i in third]\n",
    "            uchlist.sort(key=lambda x: x[0], reverse=True)\n",
    "            uch = uchlist[0][1]\n",
    "            qiymatlar.append(uchlist[0])\n",
    "            return bir, ikki, uch\n",
    "        elif len(qism) == 2:\n",
    "            # detect candidates\n",
    "            first = find_equivalent(qism[0])\n",
    "            second = find_equivalent(qism[1])\n",
    "            # find the best first and second word\n",
    "            bir_ikki = [(model.score('<s> '+i+' '+j),i+' '+j) for j in second for i in first]\n",
    "            bir_ikki.sort(key=lambda x: x[0], reverse=True)\n",
    "\n",
    "            bir = bir_ikki[0][1].split()[0]\n",
    "            ikki = bir_ikki[0][1].split()[1]\n",
    "            qiymatlar.append(bir_ikki[0])\n",
    "            return bir, ikki\n",
    "        else:\n",
    "            # detect candidates\n",
    "            first = find_equivalent(qism[0])\n",
    "            # find the best word\n",
    "            bir = [(model.score('<s> '+i),i) for i in first]\n",
    "            bir.sort(key=lambda x: x[0], reverse=True)\n",
    "            \n",
    "            bir = bir[0][1]\n",
    "            qiymatlar.append(bir[0])\n",
    "            return [bir]\n",
    "    elif gap_oxiri:\n",
    "        third = find_equivalent(qism[2])\n",
    "        uchlist = [(model.score(qism[0]+' '+qism[1]+' '+i+' </s>')+model.score(qism[1]+' '+i+' </s>'),i) for i in third]\n",
    "        uchlist.sort(key=lambda x: x[0], reverse=True)\n",
    "        uch = uchlist[0][1]\n",
    "        qiymatlar.append(uchlist[0])\n",
    "        return qism[0], qism[1], uch\n",
    "    else:\n",
    "        third = find_equivalent(qism[2])\n",
    "        uchlist = [(model.score(qism[0]+' '+qism[1]+' '+i)+model.score(qism[1]+' '+i),i) for i in third]\n",
    "        uchlist.sort(key=lambda x: x[0], reverse=True)\n",
    "        uch = uchlist[0][1]\n",
    "        qiymatlar.append(uchlist[0])\n",
    "        return qism[0], qism[1], uch\n"
   ]
  },
  {
   "cell_type": "code",
   "execution_count": 21,
   "id": "7e7877c4-beaf-4d4c-897a-8b9c8fd608ac",
   "metadata": {
    "vscode": {
     "languageId": "python"
    }
   },
   "outputs": [
    {
     "name": "stdout",
     "output_type": "stream",
     "text": [
      "Boshlang'ich gap:\n",
      "nma bulyapti sanga\n",
      "\n",
      "To'g'irlangan gap:\n",
      "nima bulyapti senga\n",
      "[(-11.298677444458008, 'nima bulyapti'), (-25.54973793029785, 'senga')]\n"
     ]
    }
   ],
   "source": [
    "gap = \"nma bulyapti sanga\"\n",
    "print(\"Boshlang'ich gap:\")\n",
    "print(gap,end='\\n\\n')\n",
    "gap = gap.split()\n",
    "if len(gap) >= 3:\n",
    "    for i in range(len(gap)-2):\n",
    "        if i == 0:\n",
    "            gap[0], gap[1], gap[2] = check_and_correct(gap[:3],model,gap_boshi=True)\n",
    "        elif i == len(gap)-3:\n",
    "            gap[-3], gap[-2], gap[-1] = check_and_correct(gap[i:],model,gap_oxiri=True)\n",
    "        else:\n",
    "            gap[i], gap[i+1], gap[i+2] = check_and_correct(gap[i:i+3],model)\n",
    "else:\n",
    "    gap = check_and_correct(gap,model,gap_boshi=True)\n",
    "    \n",
    "print(\"To'g'irlangan gap:\")\n",
    "print(' '.join(gap))\n",
    "print(qiymatlar)"
   ]
  },
  {
   "cell_type": "code",
   "execution_count": 22,
   "id": "884ae9e0",
   "metadata": {
    "vscode": {
     "languageId": "python"
    }
   },
   "outputs": [
    {
     "data": {
      "text/plain": [
       "['bulyapti']"
      ]
     },
     "execution_count": 22,
     "metadata": {},
     "output_type": "execute_result"
    }
   ],
   "source": [
    "find_equivalent('bulyapti')"
   ]
  }
 ],
 "metadata": {
  "kernelspec": {
   "display_name": "Python 3 (ipykernel)",
   "language": "python",
   "name": "python3"
  },
  "language_info": {
   "codemirror_mode": {
    "name": "ipython",
    "version": 3
   },
   "file_extension": ".py",
   "mimetype": "text/x-python",
   "name": "python",
   "nbconvert_exporter": "python",
   "pygments_lexer": "ipython3",
   "version": "3.9.10"
  }
 },
 "nbformat": 4,
 "nbformat_minor": 5
}
